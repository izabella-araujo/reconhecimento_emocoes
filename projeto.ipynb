{
 "cells": [
  {
   "cell_type": "code",
   "execution_count": null,
   "metadata": {},
   "outputs": [
    {
     "name": "stdout",
     "output_type": "stream",
     "text": [
      "Requirement already satisfied: opencv-python==4.6.0.66 in c:\\users\\raphael\\anaconda3\\lib\\site-packages (4.6.0.66)\n",
      "Requirement already satisfied: numpy>=1.21.2 in c:\\users\\raphael\\anaconda3\\lib\\site-packages (from opencv-python==4.6.0.66) (1.26.4)\n",
      "Requirement already satisfied: mediapipe in c:\\users\\raphael\\appdata\\roaming\\python\\python312\\site-packages (0.10.18)\n",
      "Requirement already satisfied: absl-py in c:\\users\\raphael\\appdata\\roaming\\python\\python312\\site-packages (from mediapipe) (2.1.0)\n",
      "Requirement already satisfied: attrs>=19.1.0 in c:\\users\\raphael\\anaconda3\\lib\\site-packages (from mediapipe) (23.1.0)\n",
      "Requirement already satisfied: flatbuffers>=2.0 in c:\\users\\raphael\\anaconda3\\lib\\site-packages (from mediapipe) (24.3.25)\n",
      "Requirement already satisfied: jax in c:\\users\\raphael\\appdata\\roaming\\python\\python312\\site-packages (from mediapipe) (0.4.35)\n",
      "Requirement already satisfied: jaxlib in c:\\users\\raphael\\appdata\\roaming\\python\\python312\\site-packages (from mediapipe) (0.4.35)\n",
      "Requirement already satisfied: matplotlib in c:\\users\\raphael\\anaconda3\\lib\\site-packages (from mediapipe) (3.9.2)\n",
      "Requirement already satisfied: numpy<2 in c:\\users\\raphael\\anaconda3\\lib\\site-packages (from mediapipe) (1.26.4)\n",
      "Requirement already satisfied: opencv-contrib-python in c:\\users\\raphael\\appdata\\roaming\\python\\python312\\site-packages (from mediapipe) (4.10.0.84)\n",
      "Requirement already satisfied: protobuf<5,>=4.25.3 in c:\\users\\raphael\\anaconda3\\lib\\site-packages (from mediapipe) (4.25.3)\n",
      "Requirement already satisfied: sounddevice>=0.4.4 in c:\\users\\raphael\\appdata\\roaming\\python\\python312\\site-packages (from mediapipe) (0.5.1)\n",
      "Requirement already satisfied: sentencepiece in c:\\users\\raphael\\anaconda3\\lib\\site-packages (from mediapipe) (0.2.0)\n",
      "Requirement already satisfied: CFFI>=1.0 in c:\\users\\raphael\\anaconda3\\lib\\site-packages (from sounddevice>=0.4.4->mediapipe) (1.17.1)\n",
      "Requirement already satisfied: ml-dtypes>=0.4.0 in c:\\users\\raphael\\appdata\\roaming\\python\\python312\\site-packages (from jax->mediapipe) (0.5.0)\n",
      "Requirement already satisfied: opt-einsum in c:\\users\\raphael\\anaconda3\\lib\\site-packages (from jax->mediapipe) (3.4.0)\n",
      "Requirement already satisfied: scipy>=1.10 in c:\\users\\raphael\\anaconda3\\lib\\site-packages (from jax->mediapipe) (1.13.1)\n",
      "Requirement already satisfied: contourpy>=1.0.1 in c:\\users\\raphael\\anaconda3\\lib\\site-packages (from matplotlib->mediapipe) (1.2.0)\n",
      "Requirement already satisfied: cycler>=0.10 in c:\\users\\raphael\\anaconda3\\lib\\site-packages (from matplotlib->mediapipe) (0.11.0)\n",
      "Requirement already satisfied: fonttools>=4.22.0 in c:\\users\\raphael\\anaconda3\\lib\\site-packages (from matplotlib->mediapipe) (4.51.0)\n",
      "Requirement already satisfied: kiwisolver>=1.3.1 in c:\\users\\raphael\\anaconda3\\lib\\site-packages (from matplotlib->mediapipe) (1.4.4)\n",
      "Requirement already satisfied: packaging>=20.0 in c:\\users\\raphael\\anaconda3\\lib\\site-packages (from matplotlib->mediapipe) (24.1)\n",
      "Requirement already satisfied: pillow>=8 in c:\\users\\raphael\\anaconda3\\lib\\site-packages (from matplotlib->mediapipe) (10.4.0)\n",
      "Requirement already satisfied: pyparsing>=2.3.1 in c:\\users\\raphael\\anaconda3\\lib\\site-packages (from matplotlib->mediapipe) (3.1.2)\n",
      "Requirement already satisfied: python-dateutil>=2.7 in c:\\users\\raphael\\anaconda3\\lib\\site-packages (from matplotlib->mediapipe) (2.9.0.post0)\n",
      "Requirement already satisfied: pycparser in c:\\users\\raphael\\anaconda3\\lib\\site-packages (from CFFI>=1.0->sounddevice>=0.4.4->mediapipe) (2.21)\n",
      "Requirement already satisfied: six>=1.5 in c:\\users\\raphael\\anaconda3\\lib\\site-packages (from python-dateutil>=2.7->matplotlib->mediapipe) (1.16.0)\n",
      "Collecting pyttsx3\n",
      "  Downloading pyttsx3-2.98-py3-none-any.whl.metadata (3.8 kB)\n",
      "Collecting comtypes (from pyttsx3)\n",
      "  Downloading comtypes-1.4.8-py3-none-any.whl.metadata (7.1 kB)\n",
      "Collecting pypiwin32 (from pyttsx3)\n",
      "  Downloading pypiwin32-223-py3-none-any.whl.metadata (236 bytes)\n",
      "Requirement already satisfied: pywin32 in c:\\users\\raphael\\anaconda3\\lib\\site-packages (from pyttsx3) (305.1)\n",
      "Downloading pyttsx3-2.98-py3-none-any.whl (34 kB)\n",
      "Downloading comtypes-1.4.8-py3-none-any.whl (229 kB)\n",
      "Downloading pypiwin32-223-py3-none-any.whl (1.7 kB)\n",
      "Installing collected packages: pypiwin32, comtypes, pyttsx3\n",
      "Successfully installed comtypes-1.4.8 pypiwin32-223 pyttsx3-2.98\n",
      "Collecting numpy==1.22.3\n",
      "  Using cached numpy-1.22.3.zip (11.5 MB)\n",
      "  Installing build dependencies: started\n",
      "  Installing build dependencies: finished with status 'done'\n",
      "  Getting requirements to build wheel: started\n",
      "  Getting requirements to build wheel: finished with status 'error'\n"
     ]
    },
    {
     "name": "stderr",
     "output_type": "stream",
     "text": [
      "  error: subprocess-exited-with-error\n",
      "  \n",
      "  × Getting requirements to build wheel did not run successfully.\n",
      "  │ exit code: 1\n",
      "  ╰─> [33 lines of output]\n",
      "      Traceback (most recent call last):\n",
      "        File \"C:\\Users\\Raphael\\anaconda3\\Lib\\site-packages\\pip\\_vendor\\pyproject_hooks\\_in_process\\_in_process.py\", line 353, in <module>\n",
      "          main()\n",
      "        File \"C:\\Users\\Raphael\\anaconda3\\Lib\\site-packages\\pip\\_vendor\\pyproject_hooks\\_in_process\\_in_process.py\", line 335, in main\n",
      "          json_out['return_val'] = hook(**hook_input['kwargs'])\n",
      "                                   ^^^^^^^^^^^^^^^^^^^^^^^^^^^^\n",
      "        File \"C:\\Users\\Raphael\\anaconda3\\Lib\\site-packages\\pip\\_vendor\\pyproject_hooks\\_in_process\\_in_process.py\", line 112, in get_requires_for_build_wheel\n",
      "          backend = _build_backend()\n",
      "                    ^^^^^^^^^^^^^^^^\n",
      "        File \"C:\\Users\\Raphael\\anaconda3\\Lib\\site-packages\\pip\\_vendor\\pyproject_hooks\\_in_process\\_in_process.py\", line 77, in _build_backend\n",
      "          obj = import_module(mod_path)\n",
      "                ^^^^^^^^^^^^^^^^^^^^^^^\n",
      "        File \"C:\\Users\\Raphael\\anaconda3\\Lib\\importlib\\__init__.py\", line 90, in import_module\n",
      "          return _bootstrap._gcd_import(name[level:], package, level)\n",
      "                 ^^^^^^^^^^^^^^^^^^^^^^^^^^^^^^^^^^^^^^^^^^^^^^^^^^^^\n",
      "        File \"<frozen importlib._bootstrap>\", line 1387, in _gcd_import\n",
      "        File \"<frozen importlib._bootstrap>\", line 1360, in _find_and_load\n",
      "        File \"<frozen importlib._bootstrap>\", line 1310, in _find_and_load_unlocked\n",
      "        File \"<frozen importlib._bootstrap>\", line 488, in _call_with_frames_removed\n",
      "        File \"<frozen importlib._bootstrap>\", line 1387, in _gcd_import\n",
      "        File \"<frozen importlib._bootstrap>\", line 1360, in _find_and_load\n",
      "        File \"<frozen importlib._bootstrap>\", line 1331, in _find_and_load_unlocked\n",
      "        File \"<frozen importlib._bootstrap>\", line 935, in _load_unlocked\n",
      "        File \"<frozen importlib._bootstrap_external>\", line 995, in exec_module\n",
      "        File \"<frozen importlib._bootstrap>\", line 488, in _call_with_frames_removed\n",
      "        File \"C:\\Users\\Raphael\\AppData\\Local\\Temp\\pip-build-env-hvgj_wf1\\overlay\\Lib\\site-packages\\setuptools\\__init__.py\", line 16, in <module>\n",
      "          import setuptools.version\n",
      "        File \"C:\\Users\\Raphael\\AppData\\Local\\Temp\\pip-build-env-hvgj_wf1\\overlay\\Lib\\site-packages\\setuptools\\version.py\", line 1, in <module>\n",
      "          import pkg_resources\n",
      "        File \"C:\\Users\\Raphael\\AppData\\Local\\Temp\\pip-build-env-hvgj_wf1\\overlay\\Lib\\site-packages\\pkg_resources\\__init__.py\", line 2172, in <module>\n",
      "          register_finder(pkgutil.ImpImporter, find_on_path)\n",
      "                          ^^^^^^^^^^^^^^^^^^^\n",
      "      AttributeError: module 'pkgutil' has no attribute 'ImpImporter'. Did you mean: 'zipimporter'?\n",
      "      [end of output]\n",
      "  \n",
      "  note: This error originates from a subprocess, and is likely not a problem with pip.\n",
      "error: subprocess-exited-with-error\n",
      "\n",
      "× Getting requirements to build wheel did not run successfully.\n",
      "│ exit code: 1\n",
      "╰─> See above for output.\n",
      "\n",
      "note: This error originates from a subprocess, and is likely not a problem with pip.\n"
     ]
    }
   ],
   "source": [
    "!pip install opencv-python==4.6.0.66\n",
    "!pip install mediapipe\n",
    "!pip install numpy==1.22.3"
   ]
  },
  {
   "cell_type": "code",
   "execution_count": null,
   "metadata": {},
   "outputs": [],
   "source": [
    "import cv2\n",
    "import mediapipe as mp\n",
    "import numpy as np\n"
   ]
  },
  {
   "cell_type": "code",
   "execution_count": 38,
   "metadata": {},
   "outputs": [],
   "source": [
    "mp_drawing = mp.solutions.drawing_utils\n",
    "mp_face_mesh = mp.solutions.face_mesh"
   ]
  },
  {
   "cell_type": "code",
   "execution_count": 39,
   "metadata": {},
   "outputs": [],
   "source": [
    "sobrancelha_esq=[285,295]\n",
    "sobrancelha_dir=[55,65]"
   ]
  },
  {
   "cell_type": "code",
   "execution_count": 40,
   "metadata": {},
   "outputs": [
    {
     "data": {
      "text/plain": [
       "[285, 295, 55, 65]"
      ]
     },
     "execution_count": 40,
     "metadata": {},
     "output_type": "execute_result"
    }
   ],
   "source": [
    "sobrancelhas = sobrancelha_esq+sobrancelha_dir\n",
    "sobrancelhas"
   ]
  },
  {
   "cell_type": "code",
   "execution_count": 41,
   "metadata": {},
   "outputs": [],
   "source": [
    "p_olho_esq = [380, 373]\n",
    "p_olho_dir = [144, 153]"
   ]
  },
  {
   "cell_type": "code",
   "execution_count": 42,
   "metadata": {},
   "outputs": [
    {
     "data": {
      "text/plain": [
       "[380, 373, 144, 153]"
      ]
     },
     "execution_count": 42,
     "metadata": {},
     "output_type": "execute_result"
    }
   ],
   "source": [
    "p_olhos = p_olho_esq+p_olho_dir\n",
    "p_olhos"
   ]
  },
  {
   "cell_type": "code",
   "execution_count": 43,
   "metadata": {},
   "outputs": [],
   "source": [
    "p_boca = [82, 87, 13, 14, 312, 317, 78, 308]"
   ]
  },
  {
   "cell_type": "code",
   "execution_count": 44,
   "metadata": {},
   "outputs": [],
   "source": [
    "def calculo_mar(face,p_boca):\n",
    "    try:\n",
    "        face = np.array([[coord.x, coord.y] for coord in face])\n",
    "        face_boca = face[p_boca,:]\n",
    "\n",
    "        mar = (np.linalg.norm(face_boca[0]-face_boca[1])+np.linalg.norm(face_boca[2]-face_boca[3])+np.linalg.norm(face_boca[4]-face_boca[5]))/(2*(np.linalg.norm(face_boca[6]-face_boca[7])))\n",
    "    except:\n",
    "        mar = 0.0\n",
    "    \n",
    "    return mar"
   ]
  },
  {
   "cell_type": "code",
   "execution_count": 45,
   "metadata": {},
   "outputs": [
    {
     "data": {
      "text/plain": [
       "array([380, 373, 144, 153, 285, 295,  55,  65])"
      ]
     },
     "execution_count": 45,
     "metadata": {},
     "output_type": "execute_result"
    }
   ],
   "source": [
    "pontos = np.array(p_olhos + sobrancelhas)\n",
    "pontos"
   ]
  },
  {
   "cell_type": "code",
   "execution_count": 46,
   "metadata": {},
   "outputs": [],
   "source": [
    "def calculo_dist_sobrancelha_olho(face, sobrancelhas, p_olhos):\n",
    "    try:\n",
    "        face = np.array([[coord.x, coord.y] for coord in face])\n",
    "        pontos = np.array(p_olhos + sobrancelhas)\n",
    "        face_sob_olho = face[pontos]\n",
    "        \n",
    "        dso = (\n",
    "            np.linalg.norm(face_sob_olho[0] - face_sob_olho[4]) +\n",
    "            np.linalg.norm(face_sob_olho[1] - face_sob_olho[5]) +\n",
    "            np.linalg.norm(face_sob_olho[2] - face_sob_olho[6])\n",
    "        ) / (2 * np.linalg.norm(face_sob_olho[3] - face_sob_olho[7]))\n",
    "        \n",
    "    except:\n",
    "        dso = 0.0\n",
    "    return dso"
   ]
  },
  {
   "cell_type": "code",
   "execution_count": 48,
   "metadata": {},
   "outputs": [],
   "source": [
    "\n",
    "cap = cv2.VideoCapture(0)\n",
    "\n",
    "with mp_face_mesh.FaceMesh(min_detection_confidence=0.5, min_tracking_confidence=0.5) as facemesh:\n",
    "    while cap.isOpened():\n",
    "        sucesso, frame = cap.read()\n",
    "        if not sucesso:\n",
    "            print('Ignorando o frame vazio da câmera.')\n",
    "            continue\n",
    "        comprimento, largura, _ = frame.shape\n",
    "\n",
    "        frame = cv2.cvtColor(frame, cv2.COLOR_BGR2RGB)\n",
    "        saida_facemesh = facemesh.process(frame)\n",
    "        frame = cv2.cvtColor(frame, cv2.COLOR_RGB2BGR)\n",
    "        \n",
    "        try:\n",
    "            for face_landmarks in saida_facemesh.multi_face_landmarks:\n",
    "                mp_drawing.draw_landmarks(frame, face_landmarks, mp_face_mesh.FACEMESH_CONTOURS,\n",
    "                    landmark_drawing_spec = mp_drawing.DrawingSpec(color=(255,102,102),thickness=1,circle_radius=1),\n",
    "                    connection_drawing_spec = mp_drawing.DrawingSpec(color=(102,204,0),thickness=1,circle_radius=1))\n",
    "                face = face_landmarks.landmark\n",
    "                for id_coord, coord_xyz in enumerate(face):\n",
    "                    if id_coord in p_olhos:\n",
    "                       coord_cv = mp_drawing._normalized_to_pixel_coordinates(coord_xyz.x,coord_xyz.y, largura, comprimento)\n",
    "                       cv2.circle(frame, coord_cv, 2, (255,0,0), -1)\n",
    "                    if id_coord in sobrancelhas:\n",
    "                       coord_cv = mp_drawing._normalized_to_pixel_coordinates(coord_xyz.x,coord_xyz.y, largura, comprimento)\n",
    "                       cv2.circle(frame, coord_cv, 2, (255,0,0), -1)\n",
    "                    if id_coord in p_boca:\n",
    "                       coord_cv = mp_drawing._normalized_to_pixel_coordinates(coord_xyz.x,coord_xyz.y, largura, comprimento)\n",
    "                       cv2.circle(frame, coord_cv, 2, (255,0,0), -1)\n",
    "\n",
    "                dso = calculo_dist_sobrancelha_olho(face, sobrancelhas, p_olhos)\n",
    "                cv2.rectangle(frame, (0,1),(290,140),(58,58,55),-1)\n",
    "                cv2.putText(frame, f\"DSO: {round(dso, 2)}\", (1, 24),\n",
    "                                cv2.FONT_HERSHEY_DUPLEX,\n",
    "                                0.9, (255, 255, 255), 2)\n",
    "                mar = calculo_mar(face,p_boca)\n",
    "                cv2.putText(frame, f\"MAR: {round(mar, 2)}\", (1, 50),\n",
    "                                cv2.FONT_HERSHEY_DUPLEX,\n",
    "                                0.9, (255, 255, 255), 2)\n",
    "\n",
    "\n",
    "                if 0.9 <= mar <= 1.5 and 1.40 <= dso <= 1.45:\n",
    "                    cv2.rectangle(frame, (30, 400), (610, 452), (109, 233, 219), -1)\n",
    "                    cv2.putText(frame, f\"Parece que esta surpreso\", (180, 450),\n",
    "                                        cv2.FONT_HERSHEY_DUPLEX, \n",
    "                                        0.85, (58,58,55), 1)\n",
    "                elif 0.2 <= mar <= 0.5 and 1.48 <= dso <= 1.55:\n",
    "                    cv2.rectangle(frame, (30, 400), (610, 452), (109, 233, 219), -1)\n",
    "                    cv2.putText(frame, f\"Parece que esta feliz\", (180, 450),\n",
    "                                        cv2.FONT_HERSHEY_DUPLEX, \n",
    "                                        0.85, (58,58,55), 1)\n",
    "                elif 1.57 <= dso <= 1.70:\n",
    "                    cv2.rectangle(frame, (30, 400), (610, 452), (109, 233, 219), -1)\n",
    "                    cv2.putText(frame, f\"Parece que esta com raiva\", (180, 450),\n",
    "                                        cv2.FONT_HERSHEY_DUPLEX, \n",
    "                                        0.85, (58,58,55), 1)\n",
    "                else:\n",
    "                    cv2.rectangle(frame, (30, 400), (610, 452), (109, 233, 219), -1)\n",
    "                    cv2.putText(frame, f\"Parece que esta normal\", (180, 450),\n",
    "                                        cv2.FONT_HERSHEY_DUPLEX, \n",
    "                                        0.85, (58,58,55), 1)\n",
    "                    \n",
    "        except:\n",
    "            pass\n",
    "\n",
    "        cv2.imshow('Camera',frame)\n",
    "        if cv2.waitKey(10) & 0xFF == ord('c'):\n",
    "            break\n",
    "cap.release()\n",
    "cv2.destroyAllWindows()"
   ]
  }
 ],
 "metadata": {
  "kernelspec": {
   "display_name": "base",
   "language": "python",
   "name": "python3"
  },
  "language_info": {
   "codemirror_mode": {
    "name": "ipython",
    "version": 3
   },
   "file_extension": ".py",
   "mimetype": "text/x-python",
   "name": "python",
   "nbconvert_exporter": "python",
   "pygments_lexer": "ipython3",
   "version": "3.12.7"
  }
 },
 "nbformat": 4,
 "nbformat_minor": 2
}
